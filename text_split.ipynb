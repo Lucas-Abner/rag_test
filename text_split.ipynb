{
 "cells": [
  {
   "cell_type": "code",
   "execution_count": 2,
   "id": "0d7737cc",
   "metadata": {},
   "outputs": [],
   "source": [
    "text_comp = \"\"\"\n",
    "Python é uma linguagem de programação de alto nível, interpretada, de propósito geral e orientada a objetos, conhecida por sua sintaxe clara e legibilidade. É amplamente utilizada em diversas áreas, como desenvolvimento web, ciência de dados, inteligência artificial e automação. \n",
    "Aqui estão alguns pontos importantes sobre o Python:\n",
    "Fácil de aprender:\n",
    "A sintaxe simples e a semântica clara tornam o Python uma ótima linguagem para iniciantes, mas também é poderosa o suficiente para projetos complexos.\n",
    "Código legível:\n",
    "O Python usa espaços em branco para estruturar o código, o que o torna mais fácil de ler e manter. \n",
    "Grande comunidade e ecossistema:\n",
    "O Python possui uma comunidade vibrante e um vasto ecossistema de bibliotecas e frameworks, o que facilita o desenvolvimento de diferentes tipos de projetos. \n",
    "\"\"\""
   ]
  },
  {
   "cell_type": "code",
   "execution_count": 1,
   "id": "8f158905",
   "metadata": {},
   "outputs": [],
   "source": [
    "from langchain_text_splitters import CharacterTextSplitter"
   ]
  },
  {
   "cell_type": "code",
   "execution_count": 10,
   "id": "7588544f",
   "metadata": {},
   "outputs": [],
   "source": [
    "chunk_size = 50\n",
    "chunk_overlap = 0\n",
    "char_split = CharacterTextSplitter(\n",
    "    chunk_size = chunk_size,\n",
    "    chunk_overlap = chunk_overlap,\n",
    "    separator=\"\"\n",
    ")"
   ]
  },
  {
   "cell_type": "code",
   "execution_count": 5,
   "id": "c3a48df4",
   "metadata": {},
   "outputs": [
    {
     "data": {
      "text/plain": [
       "130"
      ]
     },
     "execution_count": 5,
     "metadata": {},
     "output_type": "execute_result"
    }
   ],
   "source": [
    "import string\n",
    "\n",
    "texto = \"\".join(f\"{string.ascii_lowercase}\" for _ in range(5))\n",
    "len(texto)"
   ]
  },
  {
   "cell_type": "code",
   "execution_count": 6,
   "id": "f92b60b3",
   "metadata": {},
   "outputs": [
    {
     "data": {
      "text/plain": [
       "'abcdefghijklmnopqrstuvwxyzabcdefghijklmnopqrstuvwxyzabcdefghijklmnopqrstuvwxyzabcdefghijklmnopqrstuvwxyzabcdefghijklmnopqrstuvwxyz'"
      ]
     },
     "execution_count": 6,
     "metadata": {},
     "output_type": "execute_result"
    }
   ],
   "source": [
    "texto"
   ]
  },
  {
   "cell_type": "code",
   "execution_count": 13,
   "id": "853f034a",
   "metadata": {},
   "outputs": [
    {
     "data": {
      "text/plain": [
       "['Python é uma linguagem de programação de alto nív',\n",
       " 'el, interpretada, de propósito geral e orientada a',\n",
       " 'objetos, conhecida por sua sintaxe clara e legibi',\n",
       " 'lidade. É amplamente utilizada em diversas áreas,',\n",
       " 'como desenvolvimento web, ciência de dados, inteli',\n",
       " 'gência artificial e automação. \\nAqui estão alguns',\n",
       " 'pontos importantes sobre o Python:\\nFácil de aprend',\n",
       " 'er:\\nA sintaxe simples e a semântica clara tornam o',\n",
       " 'Python uma ótima linguagem para iniciantes, mas t',\n",
       " 'ambém é poderosa o suficiente para projetos comple',\n",
       " 'xos.\\nCódigo legível:\\nO Python usa espaços em branc',\n",
       " 'o para estruturar o código, o que o torna mais fác',\n",
       " 'il de ler e manter. \\nGrande comunidade e ecossiste',\n",
       " 'ma:\\nO Python possui uma comunidade vibrante e um v',\n",
       " 'asto ecossistema de bibliotecas e frameworks, o qu',\n",
       " 'e facilita o desenvolvimento de diferentes tipos d',\n",
       " 'e projetos.']"
      ]
     },
     "execution_count": 13,
     "metadata": {},
     "output_type": "execute_result"
    }
   ],
   "source": [
    "split = char_split.split_text(text_comp)\n",
    "len(split)\n",
    "split"
   ]
  },
  {
   "cell_type": "code",
   "execution_count": 15,
   "id": "7fe88a27",
   "metadata": {},
   "outputs": [],
   "source": [
    "from langchain_text_splitters import RecursiveCharacterTextSplitter"
   ]
  },
  {
   "cell_type": "code",
   "execution_count": 37,
   "id": "27d74df2",
   "metadata": {},
   "outputs": [
    {
     "data": {
      "text/plain": [
       "4"
      ]
     },
     "execution_count": 37,
     "metadata": {},
     "output_type": "execute_result"
    }
   ],
   "source": [
    "chunk_size = 250\n",
    "chunk_overlap = 10\n",
    "char_split = RecursiveCharacterTextSplitter(\n",
    "    chunk_size = chunk_size,\n",
    "    chunk_overlap = chunk_overlap,\n",
    "    separators = [\"\\n\\n\", \" \", \"\"]\n",
    ")\n",
    "\n",
    "split = char_split.split_text(text_comp)\n",
    "len(split)"
   ]
  },
  {
   "cell_type": "code",
   "execution_count": 36,
   "id": "18a95eba",
   "metadata": {},
   "outputs": [
    {
     "data": {
      "text/plain": [
       "['Python é uma linguagem de programação de alto nível, interpretada, de propósito geral e orientada a objetos, conhecida por sua sintaxe clara e legibilidade',\n",
       " '. É amplamente utilizada em diversas áreas, como desenvolvimento web, ciência de dados, inteligência artificial e automação',\n",
       " '. \\nAqui estão alguns pontos importantes sobre o Python:\\nFácil de aprender:\\nA sintaxe simples e a semântica clara tornam o Python uma ótima linguagem para iniciantes, mas também é poderosa o suficiente para projetos complexos',\n",
       " '.\\nCódigo legível:\\nO Python usa espaços em branco para estruturar o código, o que o torna mais fácil de ler e manter',\n",
       " '. \\nGrande comunidade e ecossistema:\\nO Python possui uma comunidade vibrante e um vasto ecossistema de bibliotecas e frameworks, o que facilita o desenvolvimento de diferentes tipos de projetos.']"
      ]
     },
     "execution_count": 36,
     "metadata": {},
     "output_type": "execute_result"
    }
   ],
   "source": [
    "split"
   ]
  },
  {
   "cell_type": "code",
   "execution_count": 39,
   "id": "55e94e1c",
   "metadata": {},
   "outputs": [
    {
     "data": {
      "text/plain": [
       "7"
      ]
     },
     "execution_count": 39,
     "metadata": {},
     "output_type": "execute_result"
    }
   ],
   "source": [
    "from langchain_text_splitters import TokenTextSplitter\n",
    "\n",
    "chunk_size = 50\n",
    "chunk_overlap = 5\n",
    "char_split = TokenTextSplitter(\n",
    "    chunk_size=chunk_size,\n",
    "    chunk_overlap=chunk_overlap,\n",
    ")\n",
    "\n",
    "split = char_split.split_text(text_comp)\n",
    "len(split)"
   ]
  },
  {
   "cell_type": "code",
   "execution_count": 40,
   "id": "4f384608",
   "metadata": {},
   "outputs": [
    {
     "data": {
      "text/plain": [
       "['\\nPython é uma linguagem de programação de alto nível, interpretada, de propósito geral e orientada a objetos, conhecida por sua sintaxe clara',\n",
       " ' sintaxe clara e legibilidade. É amplamente utilizada em diversas áreas, como desenvolvimento web, ciência de dados, inteligênc',\n",
       " ', inteligência artificial e automação. \\nAqui estão alguns pontos importantes sobre o Python:\\nFácil de aprender:\\nA sintaxe simples e a semâ',\n",
       " 'ples e a semântica clara tornam o Python uma ótima linguagem para iniciantes, mas também é poderosa o suficiente para projetos complexos.\\n',\n",
       " 'os complexos.\\nCódigo legível:\\nO Python usa espaços em branco para estruturar o código, o que o torna mais fácil de ler',\n",
       " 'ácil de ler e manter. \\nGrande comunidade e ecossistema:\\nO Python possui uma comunidade vibrante e um vasto ecossistema de bibliotecas',\n",
       " ' bibliotecas e frameworks, o que facilita o desenvolvimento de diferentes tipos de projetos. \\n']"
      ]
     },
     "execution_count": 40,
     "metadata": {},
     "output_type": "execute_result"
    }
   ],
   "source": [
    "split"
   ]
  },
  {
   "cell_type": "code",
   "execution_count": 45,
   "id": "68cf9a17",
   "metadata": {},
   "outputs": [],
   "source": [
    "from langchain_community.document_loaders.pdf import PyPDFLoader\n",
    "from langchain_text_splitters import RecursiveCharacterTextSplitter\n",
    "\n",
    "chunk_size=50\n",
    "chunk_overlap=5\n",
    "char_split = RecursiveCharacterTextSplitter(\n",
    "    chunk_size=chunk_size,\n",
    "    chunk_overlap=chunk_overlap,\n",
    "    separators=[\"\\n\\n\", \" \", \"\"]\n",
    ")"
   ]
  },
  {
   "cell_type": "code",
   "execution_count": 46,
   "id": "a8976e7d",
   "metadata": {},
   "outputs": [],
   "source": [
    "arquivo = \"files/comunicando.pdf\"\n",
    "\n",
    "loader = PyPDFLoader(arquivo)\n",
    "doc = loader.load()"
   ]
  },
  {
   "cell_type": "code",
   "execution_count": 55,
   "id": "962f1e76",
   "metadata": {},
   "outputs": [
    {
     "data": {
      "text/plain": [
       "101"
      ]
     },
     "execution_count": 55,
     "metadata": {},
     "output_type": "execute_result"
    }
   ],
   "source": [
    "split = char_split.split_documents(doc)\n",
    "len(split)"
   ]
  }
 ],
 "metadata": {
  "kernelspec": {
   "display_name": "agente-pdf",
   "language": "python",
   "name": "python3"
  },
  "language_info": {
   "codemirror_mode": {
    "name": "ipython",
    "version": 3
   },
   "file_extension": ".py",
   "mimetype": "text/x-python",
   "name": "python",
   "nbconvert_exporter": "python",
   "pygments_lexer": "ipython3",
   "version": "3.12.11"
  }
 },
 "nbformat": 4,
 "nbformat_minor": 5
}
