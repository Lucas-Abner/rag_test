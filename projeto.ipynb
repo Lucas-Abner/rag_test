{
 "cells": [
  {
   "cell_type": "code",
   "execution_count": 6,
   "id": "5d61ad15",
   "metadata": {},
   "outputs": [],
   "source": [
    "\n",
    "from langchain.embeddings import HuggingFaceEmbeddings\n",
    "from langchain_community.vectorstores.chroma import Chroma\n",
    "\n",
    "from langchain_community.document_loaders.pdf import PyPDFLoader\n",
    "from langchain_text_splitters import RecursiveCharacterTextSplitter"
   ]
  },
  {
   "cell_type": "code",
   "execution_count": 122,
   "id": "35dc0cc4",
   "metadata": {},
   "outputs": [],
   "source": [
    "caminhos = [\n",
    "    \"files/tuning.pdf\",\n",
    "    \"files/comunicando.pdf\",\n",
    "    \"files/smiles.pdf\"\n",
    "]\n",
    "\n",
    "paginas = []\n",
    "for caminho in caminhos:\n",
    "    loader = PyPDFLoader(caminho)\n",
    "    paginas.extend(loader.load())\n",
    "\n",
    "recur_split = RecursiveCharacterTextSplitter(\n",
    "    chunk_size = 500,\n",
    "    chunk_overlap = 100,\n",
    "    separators= [\"\\n\\n\", \"\\n\", \".\", \" \", \"\"]\n",
    ")\n",
    "\n",
    "documentos = recur_split.split_documents(paginas)\n",
    "\n",
    "for i, doc in enumerate(documentos):\n",
    "    doc.metadata[\"source\"] = doc.metadata[\"source\"].replace(\"/\", \"\")\n",
    "    doc.metadata[\"doc_id\"] = i\n"
   ]
  },
  {
   "cell_type": "code",
   "execution_count": 123,
   "id": "e0d66992",
   "metadata": {},
   "outputs": [],
   "source": [
    "import tempfile\n",
    "\n",
    "diretorio = tempfile.mkdtemp()\n",
    "\n",
    "embeddings_model = HuggingFaceEmbeddings(\n",
    "    model_name=\"sentence-transformers/all-MiniLM-L6-v2\"\n",
    ")\n"
   ]
  },
  {
   "cell_type": "code",
   "execution_count": 124,
   "id": "72f75546",
   "metadata": {},
   "outputs": [],
   "source": [
    "vectordb = Chroma.from_documents(\n",
    "    documents=documentos,\n",
    "    embedding=embeddings_model,\n",
    "    persist_directory=diretorio\n",
    ")"
   ]
  },
  {
   "cell_type": "code",
   "execution_count": 79,
   "id": "5e9fd809",
   "metadata": {},
   "outputs": [],
   "source": [
    "from langchain_ollama.chat_models import ChatOllama\n",
    "\n",
    "llm = ChatOllama(\n",
    "    model=\"mistral:latest\"\n",
    ")"
   ]
  },
  {
   "cell_type": "code",
   "execution_count": 125,
   "id": "970255ae",
   "metadata": {},
   "outputs": [],
   "source": [
    "from langchain.chains.retrieval_qa.base import RetrievalQA\n",
    "\n",
    "chain = RetrievalQA.from_chain_type(\n",
    "    llm=llm,\n",
    "    retriever=vectordb.as_retriever(search_type=\"mmr\"),\n",
    "    verbose=True\n",
    ")"
   ]
  },
  {
   "cell_type": "code",
   "execution_count": 100,
   "id": "fc4ceed0",
   "metadata": {},
   "outputs": [
    {
     "name": "stdout",
     "output_type": "stream",
     "text": [
      "\n",
      "\n",
      "\u001b[1m> Entering new RetrievalQA chain...\u001b[0m\n",
      "\n",
      "\u001b[1m> Finished chain.\u001b[0m\n"
     ]
    },
    {
     "data": {
      "text/plain": [
       "{'query': 'Como instalar o Singularity?',\n",
       " 'result': ' Instale o Singularity executando as seguintes comandos no terminal:\\n1. Atualize o sistema: sudo apt-get update\\n2. Instale o Singularity-CE: sudo apt-get install singularity-ce\\n3. Verifique a versão instalada: singularity --version',\n",
       " 'source_documents': [Document(metadata={'author': 'Lucas Abner', 'creationdate': '2025-07-10T11:05:46-07:00', 'creator': 'Microsoft Word', 'doc_id': 199, 'moddate': '2025-07-10T11:05:46-07:00', 'page': 1, 'page_label': '2', 'producer': 'PyPDF', 'source': 'filescomunicando.pdf', 'total_pages': 3}, page_content='que você possa usar o mesmo terminal para fazer outras requisições. Mas ainda falta baixar o \\nmodelo LLM para requisitar, então vamos fazer: \\nsingularity exec ollama.sif ollama run <modelo_llm> \\nAgora sim, temos o modelo pronto na máquina remota para realizar requisições. \\n \\n \\n4. Como Requisitar na sua Máquina? \\nDa sua máquina, você vai realizar da mesma maneira que foi citado anteriormente: \\nsingularity exec ollama.sif ollama run <modelo_llm>'),\n",
       "  Document(metadata={'author': 'ChatGPT Canvas', 'creationdate': '', 'creator': 'ChatGPT', 'doc_id': 5, 'page': 0, 'page_label': '1', 'producer': 'WeasyPrint 65.1', 'source': 'filessingularity.pdf', 'title': 'Singularity Gpu Ollama Revision', 'total_pages': 3}, page_content='Criando Container Singularity com GPU\\nDedicada para Rodar Ollama\\nEste  documento  descreve,  passo  a  passo,  como  instalar  o  Singularity  (Apptainer)  e  preparar  um\\ncontainer com suporte à GPU para executar o Ollama em sistemas Linux.\\n1. Instalando o Singularity\\nAntes de criar o container , é necessário instalar o Singularity (às vezes chamado de Apptainer). Em\\ndistribuições baseadas em Debian/Ubuntu, execute:\\nsudoaptupdate\\nsudoaptsearchsingularity# Verifica o nome do pacote disponível\\nsudoaptinstallsingularity-ce# Instala o pacote correspondente\\nsingularity--version # Confirma a instalação\\nAo final, você deverá ver a versão do Singularity instalada.\\n2. Verificando GPUs e Drivers\\nPara  utilizar  aceleração  por  GPU  NVIDIA,  verifique  primeiro  se  as  GPUs  estão  configuradas\\ncorretamente e se os drivers estão instalados:\\nlspci| grep-invidia # Lista dispositivos NVIDIA no barramento PCI\\nnvidia-smi # Exibe informações da GPU e do driver'),\n",
       "  Document(metadata={'author': 'ChatGPT Canvas', 'creationdate': '', 'creator': 'ChatGPT', 'doc_id': 7, 'page': 1, 'page_label': '2', 'producer': 'WeasyPrint 65.1', 'source': 'filessingularity.pdf', 'title': 'Singularity Gpu Ollama Revision', 'total_pages': 3}, page_content='Verifique a instalação com:\\nollama--version\\n4. Preparando o Diretório de Modelos\\nCrie um diretório local para armazenar os modelos baixados pelo Ollama:\\nmkdir-p~/ollama_models_scratch\\n5. Criando o Container com Imagem Docker do Ollama\\n(Opcional) Carregue o módulo do Singularity, se necessário:\\nmoduleloadsingularity/3.10.3\\nBaixe a imagem Docker do Ollama e converta para SIF:\\nsingularitypullollama.sifdocker://ollama/ollama\\nConfigure a variável de ambiente com o caminho dos modelos:\\nexportSINGULARITYENV_OLLAMA_MODELS=~/ollama_models_scratch\\nExecute o container com suporte à GPU:\\nsingularityrun--nvollama.sif\\nA  flag  --nv garante  que  os  dispositivos  e  bibliotecas  CUDA  do  host  sejam  disponibilizados  ao\\ncontainer .\\n6. Testando o Container\\nApós iniciar o container , realize uma requisição de teste a um modelo, caso tenha instalado o Ollama:\\nollamarunllama3.2\"Olá, GPU!\"\\nCaso  não  tenha  instalado,  você  pode  realizar  requisições  diretamente  pelo  Singularity  de  maneira'),\n",
       "  Document(metadata={'author': 'Lucas Abner', 'creationdate': '2025-07-10T11:05:46-07:00', 'creator': 'Microsoft Word', 'doc_id': 2, 'moddate': '2025-07-10T11:05:46-07:00', 'page': 1, 'page_label': '2', 'producer': 'PyPDF', 'source': 'filescomunicando.pdf', 'total_pages': 3}, page_content='• Localhost:11434 = Este é o endereço IP ou nome do host da máquina de destino que você \\nquer acessar e a porta no :11434 para a qual as conexões serão encaminhadas. \\n• <seu_usuario>@<servidor_hpc> = Este é o servidor para o qual você está se conectando via \\nSSH. \\nCaso queira que o terminal só fique escutando aquela porta da máquina remota, acrescente um –N \\nantes do –L, então o terminal ficara estático escutando aquela porta. \\n \\n \\n3. Ligando Ollama e Requisitando pelo Túnel \\nAgora que temos o container em nossa máquina remota, e já fizemos o túnel necessario para escutar \\na requisição ollama, é preciso ativar esse container para conseguir usar a sua LLM no projeto, certo? \\nEntão vamos lá: \\nsingularity run –-nv ollama.sif & \\nViu? De maneira simples já colocamos nosso container para funcionar. Esse // & // comercial é para \\nque você possa usar o mesmo terminal para fazer outras requisições. Mas ainda falta baixar o \\nmodelo LLM para requisitar, então vamos fazer:')]}"
      ]
     },
     "execution_count": 100,
     "metadata": {},
     "output_type": "execute_result"
    }
   ],
   "source": [
    "pergunta = \"Como instalar o Singularity?\"\n",
    "\n",
    "chat_chain.invoke({\"query\": pergunta})"
   ]
  },
  {
   "cell_type": "code",
   "execution_count": 118,
   "id": "aa1b5f2b",
   "metadata": {},
   "outputs": [],
   "source": [
    "from langchain.prompts import PromptTemplate\n",
    "\n",
    "chain_prompt = PromptTemplate.from_template(\n",
    "    \"\"\"Utilize o contexto fornecido para responder a pergunta ao final.\n",
    "    Se você não sabe a resposta, apenas diga que não sabe e não invente uma resposta.\n",
    "    Utilize três frases no máximo, mantenha a resposta concisa.\n",
    "\n",
    "    Contexto: {context}\n",
    "\n",
    "    Pergunta: {question}\n",
    "\n",
    "    Resposta:\n",
    "\"\"\"\n",
    ")"
   ]
  },
  {
   "cell_type": "code",
   "execution_count": 126,
   "id": "46539a75",
   "metadata": {},
   "outputs": [],
   "source": [
    "from langchain.chains.retrieval_qa.base import RetrievalQA\n",
    "\n",
    "chat_chain = RetrievalQA.from_chain_type(\n",
    "    llm=llm,\n",
    "    retriever=vectordb.as_retriever(search_type=\"mmr\"),\n",
    "    chain_type_kwargs={\"prompt\": chain_prompt},\n",
    "    return_source_documents=True,\n",
    "    verbose=True\n",
    ")"
   ]
  },
  {
   "cell_type": "code",
   "execution_count": 144,
   "id": "d889eeea",
   "metadata": {},
   "outputs": [
    {
     "name": "stdout",
     "output_type": "stream",
     "text": [
      "\n",
      "\n",
      "\u001b[1m> Entering new RetrievalQA chain...\u001b[0m\n",
      "\n",
      "\u001b[1m> Finished chain.\u001b[0m\n"
     ]
    }
   ],
   "source": [
    "pergunta = \"Smile de pyridine N-oxide, do methylpyrrole e do cubane\"\n",
    "\n",
    "result = chat_chain.invoke({\"query\": pergunta})\n"
   ]
  },
  {
   "cell_type": "code",
   "execution_count": 145,
   "id": "4c1357ab",
   "metadata": {},
   "outputs": [
    {
     "name": "stdout",
     "output_type": "stream",
     "text": [
      " SMILES for Pyridine N-Oxide: O=nlcccccl\n",
      "SMILES for Methylpyrrole: Cnlccccl\n",
      "SMILES for Cubane: c1ccccc1\n"
     ]
    }
   ],
   "source": [
    "print(result[\"result\"])"
   ]
  },
  {
   "cell_type": "code",
   "execution_count": 137,
   "id": "d5fa8d16",
   "metadata": {},
   "outputs": [
    {
     "data": {
      "text/plain": [
       "[Document(metadata={'author': 'David Weininger', 'creationdate': '2001-08-20T19:36:17-04:00', 'creator': 'Acrobat Capture 3.0', 'doc_id': 269, 'moddate': '2009-08-12T09:26:31-04:00', 'page': 4, 'page_label': '5', 'producer': 'Adobe PDF Library 4.0', 'source': 'filessmiles.pdf', 'style': 'Searchable Image (Exact)', 'subject': 'J. Chem. Inf. Comput. Sci. 1988.28:31-36', 'title': 'SMILES, a chemical language and information system. 1. Introduction to methodology and encoding rules', 'total_pages': 6}, page_content='Pyridine Pyridine-N-oxide methyl and 1H-pyrrole \\nPyridine is best written as nlcccccl; SMILES correctly de- \\nduces that no hydrogens are attached to the nitrogen in pyr- \\nidine because two aromatic bonds satisfy the normal valence \\nof nitrogen. Leaving the problem of aromaticity detection \\naside, neither the nitrogen in O=nlcccccl (pyridine N-oxide) \\nnor the nitrogen in Cnlccccl (methylpyrrole) has a valency \\nleft for an extra hydrogen at the normal valence state. In'),\n",
       " Document(metadata={'author': 'David Weininger', 'creationdate': '2001-08-20T19:36:17-04:00', 'creator': 'Acrobat Capture 3.0', 'doc_id': 241, 'moddate': '2009-08-12T09:26:31-04:00', 'page': 2, 'page_label': '3', 'producer': 'Adobe PDF Library 4.0', 'source': 'filessmiles.pdf', 'style': 'Searchable Image (Exact)', 'subject': 'J. Chem. Inf. Comput. Sci. 1988.28:31-36', 'title': 'SMILES, a chemical language and information system. 1. Introduction to methodology and encoding rules', 'total_pages': 6}, page_content=\", , \\n#8' I I \\n8, /c\\\\cOc \\n, . \\nI' . . . \\nI \\\\ \\n'. 0 \\nY \\\\ \\n01 C~C(O)C=CC~C~(C~)C~C~ c(O)CCC~CC~N(C)C~ \\nFigure 1. Evolution of SMILES for morphine. \\nis no implied pairing of one charge with another, nor is it \\nnecessary to have a net zero charge. If desired, the SMILES \\nof one ion may be imbedded within another, as shown in the \\nexample of sodium phenoxide. \\n1 N a+]. [ 0-1 c 1 c ccc c 1 \\nor \\ncl cc( [ 0-1. [ N a+])ccc 1 \\nNa* Cia \\n(6) Aromaticity. Aromatic structures may be distinguished\"),\n",
       " Document(metadata={'author': 'David Weininger', 'creationdate': '2001-08-20T19:36:17-04:00', 'creator': 'Acrobat Capture 3.0', 'doc_id': 278, 'moddate': '2009-08-12T09:26:31-04:00', 'page': 4, 'page_label': '5', 'producer': 'Adobe PDF Library 4.0', 'source': 'filessmiles.pdf', 'style': 'Searchable Image (Exact)', 'subject': 'J. Chem. Inf. Comput. Sci. 1988.28:31-36', 'title': 'SMILES, a chemical language and information system. 1. Introduction to methodology and encoding rules', 'total_pages': 6}, page_content='with in an aromatic context. \\nDownloaded by UNIV NAC AUT DE MEXICO UNAM on August 12, 2009\\nPublished on February 1, 1988 on http://pubs.acs.org | doi: 10.1021/ci00057a005'),\n",
       " Document(metadata={'author': 'David Weininger', 'creationdate': '2001-08-20T19:36:17-04:00', 'creator': 'Acrobat Capture 3.0', 'doc_id': 282, 'moddate': '2009-08-12T09:26:31-04:00', 'page': 5, 'page_label': '6', 'producer': 'Adobe PDF Library 4.0', 'source': 'filessmiles.pdf', 'style': 'Searchable Image (Exact)', 'subject': 'J. Chem. Inf. Comput. Sci. 1988.28:31-36', 'title': 'SMILES, a chemical language and information system. 1. Introduction to methodology and encoding rules', 'total_pages': 6}, page_content='same information in 40 characters. It can also be shown that \\nthe necessary computer processing time is reduced 1 00-fold \\nover conventional procedures using connection table format, \\ne.g., those used in CAS or MOL connection tables. \\nOriginally, SMILES was developed to provide a human/ \\nmachine language interface. Beyond this objective, it has been \\nvaluable for the implementation of a wide variety of ma- \\nchine-oriented chemical information functions. Successful')]"
      ]
     },
     "execution_count": 137,
     "metadata": {},
     "output_type": "execute_result"
    }
   ],
   "source": [
    "result[\"source_documents\"]"
   ]
  },
  {
   "cell_type": "code",
   "execution_count": 146,
   "id": "255c183b",
   "metadata": {},
   "outputs": [
    {
     "name": "stdout",
     "output_type": "stream",
     "text": [
      "\u001b[32;1m\u001b[1;3m[chain/start]\u001b[0m \u001b[1m[chain:RetrievalQA] Entering Chain run with input:\n",
      "\u001b[0m{\n",
      "  \"query\": \"Smile de pyridine N-oxide, do methylpyrrole e do cubane\"\n",
      "}\n",
      "\u001b[32;1m\u001b[1;3m[chain/start]\u001b[0m \u001b[1m[chain:RetrievalQA > chain:StuffDocumentsChain] Entering Chain run with input:\n",
      "\u001b[0m[inputs]\n",
      "\u001b[32;1m\u001b[1;3m[chain/start]\u001b[0m \u001b[1m[chain:RetrievalQA > chain:StuffDocumentsChain > chain:LLMChain] Entering Chain run with input:\n",
      "\u001b[0m{\n",
      "  \"question\": \"Smile de pyridine N-oxide, do methylpyrrole e do cubane\",\n",
      "  \"context\": \"Pyridine Pyridine-N-oxide methyl and 1H-pyrrole \\nPyridine is best written as nlcccccl; SMILES correctly de- \\nduces that no hydrogens are attached to the nitrogen in pyr- \\nidine because two aromatic bonds satisfy the normal valence \\nof nitrogen. Leaving the problem of aromaticity detection \\naside, neither the nitrogen in O=nlcccccl (pyridine N-oxide) \\nnor the nitrogen in Cnlccccl (methylpyrrole) has a valency \\nleft for an extra hydrogen at the normal valence state. In\\n\\nwith in an aromatic context. \\nDownloaded by UNIV NAC AUT DE MEXICO UNAM on August 12, 2009\\nPublished on February 1, 1988 on http://pubs.acs.org | doi: 10.1021/ci00057a005\\n\\nsame information in 40 characters. It can also be shown that \\nthe necessary computer processing time is reduced 1 00-fold \\nover conventional procedures using connection table format, \\ne.g., those used in CAS or MOL connection tables. \\nOriginally, SMILES was developed to provide a human/ \\nmachine language interface. Beyond this objective, it has been \\nvaluable for the implementation of a wide variety of ma- \\nchine-oriented chemical information functions. Successful\\n\\n, , \\n#8' I I \\n8, /c\\\\cOc \\n, . \\nI' . . . \\nI \\\\ \\n'. 0 \\nY \\\\ \\n01 C~C(O)C=CC~C~(C~)C~C~ c(O)CCC~CC~N(C)C~ \\nFigure 1. Evolution of SMILES for morphine. \\nis no implied pairing of one charge with another, nor is it \\nnecessary to have a net zero charge. If desired, the SMILES \\nof one ion may be imbedded within another, as shown in the \\nexample of sodium phenoxide. \\n1 N a+]. [ 0-1 c 1 c ccc c 1 \\nor \\ncl cc( [ 0-1. [ N a+])ccc 1 \\nNa* Cia \\n(6) Aromaticity. Aromatic structures may be distinguished\"\n",
      "}\n",
      "\u001b[32;1m\u001b[1;3m[llm/start]\u001b[0m \u001b[1m[chain:RetrievalQA > chain:StuffDocumentsChain > chain:LLMChain > llm:ChatOllama] Entering LLM run with input:\n",
      "\u001b[0m{\n",
      "  \"prompts\": [\n",
      "    \"Human: Utilize o contexto fornecido para responder a pergunta ao final.\\n    Se você não sabe a resposta, apenas diga que não sabe e não invente uma resposta.\\n    Utilize três frases no máximo, mantenha a resposta concisa.\\n\\n    Contexto: Pyridine Pyridine-N-oxide methyl and 1H-pyrrole \\nPyridine is best written as nlcccccl; SMILES correctly de- \\nduces that no hydrogens are attached to the nitrogen in pyr- \\nidine because two aromatic bonds satisfy the normal valence \\nof nitrogen. Leaving the problem of aromaticity detection \\naside, neither the nitrogen in O=nlcccccl (pyridine N-oxide) \\nnor the nitrogen in Cnlccccl (methylpyrrole) has a valency \\nleft for an extra hydrogen at the normal valence state. In\\n\\nwith in an aromatic context. \\nDownloaded by UNIV NAC AUT DE MEXICO UNAM on August 12, 2009\\nPublished on February 1, 1988 on http://pubs.acs.org | doi: 10.1021/ci00057a005\\n\\nsame information in 40 characters. It can also be shown that \\nthe necessary computer processing time is reduced 1 00-fold \\nover conventional procedures using connection table format, \\ne.g., those used in CAS or MOL connection tables. \\nOriginally, SMILES was developed to provide a human/ \\nmachine language interface. Beyond this objective, it has been \\nvaluable for the implementation of a wide variety of ma- \\nchine-oriented chemical information functions. Successful\\n\\n, , \\n#8' I I \\n8, /c\\\\cOc \\n, . \\nI' . . . \\nI \\\\ \\n'. 0 \\nY \\\\ \\n01 C~C(O)C=CC~C~(C~)C~C~ c(O)CCC~CC~N(C)C~ \\nFigure 1. Evolution of SMILES for morphine. \\nis no implied pairing of one charge with another, nor is it \\nnecessary to have a net zero charge. If desired, the SMILES \\nof one ion may be imbedded within another, as shown in the \\nexample of sodium phenoxide. \\n1 N a+]. [ 0-1 c 1 c ccc c 1 \\nor \\ncl cc( [ 0-1. [ N a+])ccc 1 \\nNa* Cia \\n(6) Aromaticity. Aromatic structures may be distinguished\\n\\n    Pergunta: Smile de pyridine N-oxide, do methylpyrrole e do cubane\\n\\n    Resposta:\"\n",
      "  ]\n",
      "}\n",
      "\u001b[36;1m\u001b[1;3m[llm/end]\u001b[0m \u001b[1m[chain:RetrievalQA > chain:StuffDocumentsChain > chain:LLMChain > llm:ChatOllama] [4.23s] Exiting LLM run with output:\n",
      "\u001b[0m{\n",
      "  \"generations\": [\n",
      "    [\n",
      "      {\n",
      "        \"text\": \" SMILES for Pyridine N-Oxide: O=nlcccccl\\nSMILES for Methylpyrrole: Cnlccccl\\nSMILES for Cubane is not provided in the context.\",\n",
      "        \"generation_info\": {\n",
      "          \"model\": \"mistral:latest\",\n",
      "          \"created_at\": \"2025-07-16T14:06:36.103615404Z\",\n",
      "          \"done\": true,\n",
      "          \"done_reason\": \"stop\",\n",
      "          \"total_duration\": 4222559999,\n",
      "          \"load_duration\": 21673667,\n",
      "          \"prompt_eval_count\": 691,\n",
      "          \"prompt_eval_duration\": 100698467,\n",
      "          \"eval_count\": 50,\n",
      "          \"eval_duration\": 4098927929,\n",
      "          \"model_name\": \"mistral:latest\"\n",
      "        },\n",
      "        \"type\": \"ChatGeneration\",\n",
      "        \"message\": {\n",
      "          \"lc\": 1,\n",
      "          \"type\": \"constructor\",\n",
      "          \"id\": [\n",
      "            \"langchain\",\n",
      "            \"schema\",\n",
      "            \"messages\",\n",
      "            \"AIMessage\"\n",
      "          ],\n",
      "          \"kwargs\": {\n",
      "            \"content\": \" SMILES for Pyridine N-Oxide: O=nlcccccl\\nSMILES for Methylpyrrole: Cnlccccl\\nSMILES for Cubane is not provided in the context.\",\n",
      "            \"response_metadata\": {\n",
      "              \"model\": \"mistral:latest\",\n",
      "              \"created_at\": \"2025-07-16T14:06:36.103615404Z\",\n",
      "              \"done\": true,\n",
      "              \"done_reason\": \"stop\",\n",
      "              \"total_duration\": 4222559999,\n",
      "              \"load_duration\": 21673667,\n",
      "              \"prompt_eval_count\": 691,\n",
      "              \"prompt_eval_duration\": 100698467,\n",
      "              \"eval_count\": 50,\n",
      "              \"eval_duration\": 4098927929,\n",
      "              \"model_name\": \"mistral:latest\"\n",
      "            },\n",
      "            \"type\": \"ai\",\n",
      "            \"id\": \"run--9aa10f93-0838-4d1e-bc7b-284757f5ceeb-0\",\n",
      "            \"usage_metadata\": {\n",
      "              \"input_tokens\": 691,\n",
      "              \"output_tokens\": 50,\n",
      "              \"total_tokens\": 741\n",
      "            },\n",
      "            \"tool_calls\": [],\n",
      "            \"invalid_tool_calls\": []\n",
      "          }\n",
      "        }\n",
      "      }\n",
      "    ]\n",
      "  ],\n",
      "  \"llm_output\": null,\n",
      "  \"run\": null,\n",
      "  \"type\": \"LLMResult\"\n",
      "}\n",
      "\u001b[36;1m\u001b[1;3m[chain/end]\u001b[0m \u001b[1m[chain:RetrievalQA > chain:StuffDocumentsChain > chain:LLMChain] [4.23s] Exiting Chain run with output:\n",
      "\u001b[0m{\n",
      "  \"text\": \" SMILES for Pyridine N-Oxide: O=nlcccccl\\nSMILES for Methylpyrrole: Cnlccccl\\nSMILES for Cubane is not provided in the context.\"\n",
      "}\n",
      "\u001b[36;1m\u001b[1;3m[chain/end]\u001b[0m \u001b[1m[chain:RetrievalQA > chain:StuffDocumentsChain] [4.23s] Exiting Chain run with output:\n",
      "\u001b[0m{\n",
      "  \"output_text\": \" SMILES for Pyridine N-Oxide: O=nlcccccl\\nSMILES for Methylpyrrole: Cnlccccl\\nSMILES for Cubane is not provided in the context.\"\n",
      "}\n",
      "\u001b[36;1m\u001b[1;3m[chain/end]\u001b[0m \u001b[1m[chain:RetrievalQA] [4.28s] Exiting Chain run with output:\n",
      "\u001b[0m[outputs]\n"
     ]
    }
   ],
   "source": [
    "from langchain.globals import set_debug\n",
    "\n",
    "set_debug(True)\n",
    "\n",
    "pergunta = \"Smile de pyridine N-oxide, do methylpyrrole e do cubane\"\n",
    "resposta = chat_chain.invoke({\"query\": pergunta})\n",
    "\n",
    "set_debug(False)"
   ]
  },
  {
   "cell_type": "code",
   "execution_count": 154,
   "id": "960ec159",
   "metadata": {},
   "outputs": [
    {
     "name": "stdout",
     "output_type": "stream",
     "text": [
      " In light of the additional context provided, the question can be more accurately answered as follows: The double mutants being referred to are HER2 protein variants with specific amino acid substitutions. These substitutions are located at distinct structural positions within the protein and include A40R+K43D, R50S+R59N, and S85N+R87T (Figure 2b). The four-rule subset of SMILES used for specifying these organic compounds includes only the symbols H, C, N, O, P, S, F, C1, Br, I, and parentheses. The rules are as follows: (1) Atoms are represented by atomic symbols, (2) side-chain interactions observed in MD simulation frames were analyzed, (3) probabilities of these substitutions were obtained from language models to enhance stability and function, and (4) although SMILES allows direct specification of charges, attached hydrogens, and aromaticity, they are often not required for the vast majority of organic compounds. In addition, side-chain interactions observed in the Q89A and Q89H MD simulation frames were compared against WT trajectories to further understand these mutations' effects on the protein.\n",
      "[Document(metadata={'creationdate': '2025-07-13T09:39:56+05:30', 'creator': 'PTC Arbortext Publishing Engine', 'doc_id': 117, 'keywords': 'Antibody framework; Antibody engineering; Antibody effector functions; Antibody stability; Artificial intelligence; Antibody language models', 'moddate': '2025-07-13T09:39:56+05:30', 'page': 12, 'page_label': '12', 'producer': 'PDFlib+PDI 9.2.0 (C++/Win64)', 'source': 'filestuning.pdf', 'title': 'Tuning antibody stability and function by rational designs of framework mutations', 'total_pages': 20}, page_content='67 \\nto address missing residues in HER2 in PDB 7mn8. Histidine residues’ \\nprotonation state was assigned through PropKa.\\n77 \\nAll the systems were prepared using an identical \\nprocedure detailed as follows: the structure was placed at the center of a dodecahedron box and filled \\nwith TIP3P water. System charge was neutralized by adding counter ions to reach a concentration of NaCl \\nequal to 0.15 M. Three minimization steps were then performed, gradually decreasing the heavy atoms’'), Document(metadata={'creationdate': '2025-07-13T09:39:56+05:30', 'creator': 'PTC Arbortext Publishing Engine', 'doc_id': 53, 'keywords': 'Antibody framework; Antibody engineering; Antibody effector functions; Antibody stability; Artificial intelligence; Antibody language models', 'moddate': '2025-07-13T09:39:56+05:30', 'page': 6, 'page_label': '6', 'producer': 'PDFlib+PDI 9.2.0 (C++/Win64)', 'source': 'filestuning.pdf', 'title': 'Tuning antibody stability and function by rational designs of framework mutations', 'total_pages': 20}, page_content='stability and function. We prioritized mutants with consistent Rosetta results between the single and the \\ndouble mutant scans and designed three stabilizing VH double-mutants located at distinct structural \\nlocations ( Figure 2b ): A40R+K43D, R50S+R59N and S85N+R87T. We obtained probabilities of these \\nsubstitutions from the language models we had investigated and observed that these models displayed'), Document(metadata={'creationdate': '2025-07-13T09:39:56+05:30', 'creator': 'PTC Arbortext Publishing Engine', 'doc_id': 98, 'keywords': 'Antibody framework; Antibody engineering; Antibody effector functions; Antibody stability; Artificial intelligence; Antibody language models', 'moddate': '2025-07-13T09:39:56+05:30', 'page': 10, 'page_label': '10', 'producer': 'PDFlib+PDI 9.2.0 (C++/Win64)', 'source': 'filestuning.pdf', 'title': 'Tuning antibody stability and function by rational designs of framework mutations', 'total_pages': 20}, page_content='side-chain interactions (highlighted with stick representation) observed in the Q89A and Q89H MD simulation frames, \\ncompared against the WT trajectories.\\n10\\n J. C. F. NG ET AL.'), Document(metadata={'author': 'David Weininger', 'creationdate': '2001-08-20T19:36:17-04:00', 'creator': 'Acrobat Capture 3.0', 'doc_id': 244, 'moddate': '2009-08-12T09:26:31-04:00', 'page': 2, 'page_label': '3', 'producer': 'Adobe PDF Library 4.0', 'source': 'filessmiles.pdf', 'style': 'Searchable Image (Exact)', 'subject': 'J. Chem. Inf. Comput. Sci. 1988.28:31-36', 'title': 'SMILES, a chemical language and information system. 1. Introduction to methodology and encoding rules', 'total_pages': 6}, page_content='aromatic carbon atoms are shown in lower case letters c. \\nBASIC SMILES \\nAs simple as the SMILES rules are, an even simpler \\nfour-rule subset suffices for the vast majority of organic \\ncompounds. Although SMILES allows direct specification \\nof charges, attached hydrogens, and aromaticity, often they \\nare not required. This subset uses only the symbols H, C, N, \\n0, P, S, F, C1, Br, I, and (,) and digits, with the following four \\nrules: (1) Atoms are represented by atomic symbols. (2)')]\n"
     ]
    }
   ],
   "source": [
    "from langchain.chains.retrieval_qa.base import RetrievalQA\n",
    "\n",
    "chain = RetrievalQA.from_chain_type(\n",
    "    llm=llm,\n",
    "    retriever=vectordb.as_retriever(search_type=\"mmr\"),\n",
    "    chain_type=\"refine\",\n",
    "    return_source_documents=True\n",
    ")\n",
    "\n",
    "pergunta = \"VH S85N+R87T\"\n",
    "resposta = chain.with_config({\"temperature\": 0}).invoke({\"query\": pergunta})\n",
    "print(resposta[\"result\"])\n",
    "print(resposta[\"source_documents\"])"
   ]
  },
  {
   "cell_type": "code",
   "execution_count": null,
   "id": "ca30476a",
   "metadata": {},
   "outputs": [
    {
     "data": {
      "text/plain": [
       "{'query': 'VH S85N+R87T',\n",
       " 'result': \" In the provided VH S85N+R87T residues context, it is essential to mention that these mutations are part of a group of three stabilizing double-mutants in an antibody (VH) structure. The other two mutant pairs are A40R+K43D and R50S+R59N, which were prioritized due to consistent Rosetta results between single and double mutant scans.\\n\\nThese triple mutations were given priority because the models' probabilities for these specific substitutions were obtained from investigated language models. The SMILES notation is a text-based representation of molecules used in computational chemistry, and it was not directly related to the VH residue mutation context provided.\"}"
      ]
     },
     "execution_count": 152,
     "metadata": {},
     "output_type": "execute_result"
    }
   ],
   "source": []
  }
 ],
 "metadata": {
  "kernelspec": {
   "display_name": "agente-pdf",
   "language": "python",
   "name": "python3"
  },
  "language_info": {
   "codemirror_mode": {
    "name": "ipython",
    "version": 3
   },
   "file_extension": ".py",
   "mimetype": "text/x-python",
   "name": "python",
   "nbconvert_exporter": "python",
   "pygments_lexer": "ipython3",
   "version": "3.12.11"
  }
 },
 "nbformat": 4,
 "nbformat_minor": 5
}
